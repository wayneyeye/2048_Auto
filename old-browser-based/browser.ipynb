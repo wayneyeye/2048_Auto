{
 "cells": [
  {
   "cell_type": "code",
   "execution_count": null,
   "metadata": {
    "collapsed": true
   },
   "outputs": [],
   "source": [
    "import sys,os\n",
    "# print(sys.path)\n",
    "# print(os.getcwd())\n",
    "geckodriver_path=(os.path.join(os.getcwd(),'geckodriver-dir'))#this is wrong search path for modules\n",
    "geckodriver_path=\":\"+geckodriver_path\n",
    "# print(geckodriver_path)\n",
    "os.environ[\"PATH\"]+=geckodriver_path\n",
    "# print(os.environ[\"PATH\"])"
   ]
  },
  {
   "cell_type": "code",
   "execution_count": 23,
   "metadata": {
    "collapsed": false
   },
   "outputs": [],
   "source": [
    "def game_over(driver):\n",
    "    element=driver.find_element_by_class_name('game-message')\n",
    "    display=element.value_of_css_property('display')\n",
    "    return display=='none'\n",
    "def game_retry(driver):\n",
    "    retry_button=driver.find_element_by_class_name(\"retry-button\")\n",
    "    retry_button.click()\n",
    "\n",
    "def current_status(driver):\n",
    "    result={}\n",
    "    for col in range(1,5):\n",
    "        for row in range(1,5):\n",
    "            key=\"c%d_r%d\" %(col,row)\n",
    "            try:\n",
    "                tile=driver.find_element_by_class_name(\"tile-position-%d-%d\" %(col,row))\n",
    "                value=tile.find_element_by_class_name(\"tile-inner\").text\n",
    "                result[key]=int(value)\n",
    "            except:\n",
    "                result[key]=0\n",
    "    return result\n",
    "def get_current_score_addition(driver):\n",
    "    try:\n",
    "        score_addition=int(driver.find_element_by_class_name(\"score-addition\").text.lstrip('+'))\n",
    "    except:\n",
    "        score_addition=0\n",
    "    return score_addition\n",
    "\n",
    "def submit_step(step,record,skip=False):\n",
    "    if skip:\n",
    "        flag=True\n",
    "        if len(record)==0:\n",
    "            record.append(step)\n",
    "        else:\n",
    "            for col in range(1,5):\n",
    "                if flag==False:\n",
    "                    break\n",
    "                for row in range(1,5):\n",
    "                    key=\"c%d_r%d\" %(col,row)\n",
    "                    if step[key]!=record[-1][key]:\n",
    "                        flag=False\n",
    "                        break\n",
    "            if flag==False:\n",
    "                record.append(step)\n",
    "    else:\n",
    "        record.append(step)\n",
    "#     print(step,end='\\r')\n",
    "        \n",
    "def submit_record(record,l=10):\n",
    "    print(len(record))\n",
    "    last_records=record[-min(len(record),l):]\n",
    "    for r in last_records:\n",
    "        print(r,end='\\r')\n",
    "\n",
    "def submit_record_sql(record,password):\n",
    "    import pymysql\n",
    "    insert_rows=[(i['c1_r1'],i['c1_r2'],i['c1_r3'],i['c1_r4'],\n",
    "     i['c2_r1'],i['c2_r2'],i['c2_r3'],i['c2_r4'],\n",
    "     i['c3_r1'],i['c3_r2'],i['c3_r3'],i['c3_r4'],\n",
    "     i['c4_r1'],i['c4_r2'],i['c4_r3'],i['c4_r4'],\n",
    "     i['stepno'],i['move'],i['score_addition'],i['gamestart'],i['uuid']) for i in record]\n",
    "    connection=pymysql.connect(host=\"192.168.1.188\",user=\"yewenhe0904\",passwd=password,db='a2048')\n",
    "    try:\n",
    "        with connection.cursor() as cursor:\n",
    "            stmt=\"INSERT INTO testing VALUES (%s, %s, %s, %s, %s, %s, %s, %s, %s, %s, %s,\\\n",
    "     %s, %s, %s, %s, %s, %s, %s, %s, %s, %s)\"\n",
    "            cursor.executemany(stmt,insert_rows)\n",
    "        connection.commit()\n",
    "    finally:\n",
    "        connection.close()\n",
    "        \n",
    "def get_max_score(record):\n",
    "    grid=[]\n",
    "    score=0\n",
    "    for col in range(1,5):\n",
    "        for row in range(1,5):\n",
    "            key=\"c%d_r%d\" %(col,row)\n",
    "            try:\n",
    "                grid.append(record[-1][key])\n",
    "            except:\n",
    "                grid.append(0)\n",
    "    score=max(grid)\n",
    "    return (score)"
   ]
  },
  {
   "cell_type": "code",
   "execution_count": 26,
   "metadata": {
    "collapsed": false
   },
   "outputs": [],
   "source": [
    "#worker function\n",
    "def play_2048(db_password,retry=1):\n",
    "    #check db connection\n",
    "    import pymysql\n",
    "    try:\n",
    "        connection=pymysql.connect(host=\"192.168.1.188\",user=\"yewenhe0904\",passwd=db_password,db='a2048')\n",
    "    except:\n",
    "        print(\"Problems in DB Connection!\\nQuit...\")\n",
    "        sys.exit(1)\n",
    "    #open selenium  \n",
    "    from selenium import webdriver #install selenium\n",
    "    from selenium.webdriver.common.keys import Keys\n",
    "    import time,random,string\n",
    "    import uuid\n",
    "    import threading\n",
    "    print(\"Worker (PID=%s) Started\" % os.getpid())\n",
    "    keymap=(Keys.ARROW_UP,Keys.ARROW_DOWN,Keys.ARROW_LEFT,Keys.ARROW_RIGHT)\n",
    "    driver = webdriver.PhantomJS() #install phantomjs\n",
    "    driver.get(\"https://wayneyeye.github.io/2048/\")\n",
    "    elem = driver.find_element_by_class_name('game-container')\n",
    "    retry=1\n",
    "    # try\n",
    "    for i in range(retry):\n",
    "        print(\"Worker (PID=%s) in Round %s\" % (os.getpid(),i+1))\n",
    "        record=[]\n",
    "        starttime=time.strftime(\"%m%d%Y-%H%M%S\")\n",
    "        stepno=0\n",
    "        while game_over(driver):\n",
    "            stepno+=1\n",
    "            key=random.randint(0,3)\n",
    "            step_detail=current_status(driver)\n",
    "            step_detail[\"stepno\"]=stepno\n",
    "            step_detail[\"move\"]=key\n",
    "            elem.send_keys(keymap[key])\n",
    "            step_detail[\"score_addition\"]=(get_current_score_addition(driver))\n",
    "            step_detail[\"gamestart\"]=starttime\n",
    "            step_detail[\"uuid\"]=uuid.uuid1().hex\n",
    "            submit_step(step_detail,record)\n",
    "        game_retry(driver)\n",
    "        print(\"Worker (PID=%s) Round %s Submitting Scores\" % (os.getpid(),i+1))\n",
    "        record[-1]\n",
    "        print(\"Worker (PID=%s) Round %s Highest Score: %s\" % (os.getpid(),i+1,get_max_score(record)))\n",
    "        submit_record_sql(record,db_password)\n",
    "    driver.close()\n",
    "    print(\"Worker (PID=%s) Closed\" % os.getpid())"
   ]
  },
  {
   "cell_type": "code",
   "execution_count": 25,
   "metadata": {
    "collapsed": false
   },
   "outputs": [
    {
     "name": "stdout",
     "output_type": "stream",
     "text": [
      "DB password? ········\n",
      "Number of workers?5\n",
      "Retry for worker 0?1\n",
      "Retry for worker 1?1\n",
      "Retry for worker 2?1\n",
      "Retry for worker 3?1\n",
      "Retry for worker 4?1\n",
      "Process (PID=11190) Started\n",
      "Process (PID=11189) Started\n",
      "Process (PID=11191) Started\n",
      "Process (PID=11193) Started\n",
      "Process (PID=11192) Started\n",
      "Process (PID=11190) in Round 1\n",
      "Process (PID=11191) in Round 1\n",
      "Process (PID=11192) in Round 1\n",
      "Process (PID=11193) in Round 1\n",
      "Process (PID=11189) in Round 1\n",
      "Process (PID=11193) Round 1 Submitting Scores\n",
      "Process (PID=11193) Round 1 Highest Score: 64\n",
      "Process (PID=11193) Closed\n",
      "Process (PID=11191) Round 1 Submitting Scores\n",
      "Process (PID=11191) Round 1 Highest Score: 128\n",
      "Process (PID=11191) Closed\n",
      "Process (PID=11189) Round 1 Submitting Scores\n",
      "Process (PID=11189) Round 1 Highest Score: 128\n",
      "Process (PID=11189) Closed\n",
      "Process (PID=11190) Round 1 Submitting Scores\n",
      "Process (PID=11190) Round 1 Highest Score: 128\n",
      "Process (PID=11190) Closed\n",
      "Process (PID=11192) Round 1 Submitting Scores\n",
      "Process (PID=11192) Round 1 Highest Score: 256\n",
      "Process (PID=11192) Closed\n"
     ]
    }
   ],
   "source": [
    "if __name__ == '__main__':\n",
    "    import sys,os\n",
    "    #put geckodriver into the working directory\n",
    "    geckodriver_path=(os.path.join(os.getcwd(),'geckodriver-dir'))#this is wrong search path for modules\n",
    "    geckodriver_path=\":\"+geckodriver_path\n",
    "    os.environ[\"PATH\"]+=geckodriver_path\n",
    "    import concurrent.futures\n",
    "    import getpass\n",
    "    password=getpass.getpass(\"DB password? \")\n",
    "    worker_n=int(input(\"Number of workers?\"))\n",
    "    worker_retrys=[]\n",
    "    for i in range(worker_n):\n",
    "        worker_retrys.append(int(input(\"Retry for worker %s?\" %i)))   \n",
    "    with concurrent.futures.ProcessPoolExecutor(worker_n+2) as executor:\n",
    "        for retry_n in worker_retrys:\n",
    "            executor.submit(play_2048,password,{'retry':retry_n})"
   ]
  },
  {
   "cell_type": "code",
   "execution_count": null,
   "metadata": {
    "collapsed": true
   },
   "outputs": [],
   "source": []
  },
  {
   "cell_type": "code",
   "execution_count": null,
   "metadata": {
    "collapsed": true
   },
   "outputs": [],
   "source": []
  },
  {
   "cell_type": "code",
   "execution_count": null,
   "metadata": {
    "collapsed": true
   },
   "outputs": [],
   "source": []
  },
  {
   "cell_type": "code",
   "execution_count": null,
   "metadata": {
    "collapsed": true
   },
   "outputs": [],
   "source": []
  }
 ],
 "metadata": {
  "kernelspec": {
   "display_name": "Python 3",
   "language": "python",
   "name": "python3"
  },
  "language_info": {
   "codemirror_mode": {
    "name": "ipython",
    "version": 3
   },
   "file_extension": ".py",
   "mimetype": "text/x-python",
   "name": "python",
   "nbconvert_exporter": "python",
   "pygments_lexer": "ipython3",
   "version": "3.6.0"
  }
 },
 "nbformat": 4,
 "nbformat_minor": 2
}
