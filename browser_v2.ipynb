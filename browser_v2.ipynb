{
 "cells": [
  {
   "cell_type": "code",
   "execution_count": 1,
   "metadata": {
    "collapsed": true
   },
   "outputs": [],
   "source": [
    "from selenium import webdriver #install selenium\n",
    "from selenium.webdriver.common.keys import Keys\n",
    "import time,random,string\n",
    "\n",
    "\n"
   ]
  },
  {
   "cell_type": "code",
   "execution_count": 278,
   "metadata": {
    "collapsed": true
   },
   "outputs": [],
   "source": [
    "import sys,os\n",
    "geckodriver_path=(os.path.join(os.getcwd(),'geckodriver-dir'))\n",
    "geckodriver_path=\":\"+geckodriver_path\n",
    "os.environ[\"PATH\"]+=geckodriver_path\n"
   ]
  },
  {
   "cell_type": "code",
   "execution_count": 224,
   "metadata": {
    "collapsed": true
   },
   "outputs": [],
   "source": [
    "def next_move(desired, priority):\n",
    "    import random\n",
    "    choice=['up','down','left','right']\n",
    "    choice.remove(desired)\n",
    "    chance_not_desired=(1-priority)/4\n",
    "    cut_values=[priority+chance_not_desired,priority+2*chance_not_desired,priority+3*chance_not_desired]\n",
    "#     print(cut_values)\n",
    "    dice=random.random()\n",
    "    if dice<=cut_values[0]:\n",
    "        return desired\n",
    "    elif dice<=cut_values[1]:\n",
    "        return choice[0]\n",
    "    elif dice<=cut_values[2]:\n",
    "        return choice[1]\n",
    "    else:\n",
    "        return choice[2]\n",
    "\n",
    "def game_over(driver):\n",
    "    element=driver.find_element_by_class_name('game-message')\n",
    "    display=element.value_of_css_property('display')\n",
    "    return display=='none'\n",
    "def game_retry(driver):\n",
    "    retry_button=driver.find_element_by_class_name(\"retry-button\")\n",
    "    retry_button.click()\n",
    "\n",
    "def current_status(driver):\n",
    "    result={}\n",
    "    for col in range(1,5):\n",
    "        for row in range(1,5):\n",
    "            key=\"c%d_r%d\" %(col,row)\n",
    "            try:\n",
    "                tile=driver.find_element_by_class_name(\"tile-position-%d-%d\" %(col,row))\n",
    "                value=tile.find_element_by_class_name(\"tile-inner\").text\n",
    "                result[key]=int(value)\n",
    "            except:\n",
    "                result[key]=0\n",
    "    return result\n",
    "def submit_step(step,record,skip=False):\n",
    "    if skip:\n",
    "        flag=True\n",
    "        if len(record)==0:\n",
    "            record.append(step)\n",
    "        else:\n",
    "            for col in range(1,5):\n",
    "                if flag==False:\n",
    "                    break\n",
    "                for row in range(1,5):\n",
    "                    key=\"c%d_r%d\" %(col,row)\n",
    "                    if step[key]!=record[-1][key]:\n",
    "                        flag=False\n",
    "                        break\n",
    "            if flag==False:\n",
    "                record.append(step)\n",
    "    else:\n",
    "        record.append(step)\n",
    "        \n",
    "def get_max_score(record):\n",
    "    grid=[]\n",
    "    score=0\n",
    "    for col in range(1,5):\n",
    "        for row in range(1,5):\n",
    "            key=\"c%d_r%d\" %(col,row)\n",
    "            try:\n",
    "                grid.append(record[-1][key])\n",
    "            except:\n",
    "                grid.append(0)\n",
    "    score=max(grid)\n",
    "    return (score)\n",
    "\n",
    "def submit_record(record,password):\n",
    "    current_round_score=get_max_score(record)\n",
    "    for s in record:\n",
    "        insert_step_in_db(s,current_round_score,password)\n",
    "            \n",
    "            \n",
    "def find_step_expected(step,password):\n",
    "    import pymysql\n",
    "    connection=pymysql.connect(host=\"192.168.1.188\",user=\"yewenhe0904\",passwd=password,db='a2048')\n",
    "    try:\n",
    "        with connection.cursor() as cursor:\n",
    "            sql='''SELECT move, AVG(expected_score) as exp FROM testing_v2\n",
    "            WHERE '''\n",
    "            stmt=''\n",
    "            for col in range(1,5):\n",
    "                    for row in range(1,5):\n",
    "                        key=\"c%d_r%d\" %(col,row)\n",
    "                        p=(\" %s=%%s AND\" % key)\n",
    "                        stmt+=p\n",
    "            stmt+=' 1=1'\n",
    "            sql=sql+stmt\n",
    "            sql+=' GROUP BY move ORDER BY 2 DESC'\n",
    "            condition=(step['c1_r1'],step['c1_r2'],step['c1_r3'],step['c1_r4'],\n",
    "                         step['c2_r1'],step['c2_r2'],step['c2_r3'],step['c2_r4'],\n",
    "                         step['c3_r1'],step['c3_r2'],step['c3_r3'],step['c3_r4'],\n",
    "                         step['c4_r1'],step['c4_r2'],step['c4_r3'],step['c4_r4'])\n",
    "            cursor.execute(sql,condition)\n",
    "            result=cursor.fetchall()\n",
    "    finally:\n",
    "        connection.close()           \n",
    "    return(result)\n",
    "            \n",
    "def insert_step_in_db(step,score,password):\n",
    "    import pymysql\n",
    "    connection=pymysql.connect(host=\"192.168.1.188\",user=\"yewenhe0904\",passwd=password,db='a2048')\n",
    "    try:\n",
    "        with connection.cursor() as cursor:\n",
    "            sql='''INSERT INTO testing_v2\n",
    "            VALUES (%s,%s,%s,%s,%s,%s,%s,%s,%s,%s,%s,%s,%s,%s,%s,%s,%s,%s) '''\n",
    "            condition=(step['c1_r1'],step['c1_r2'],step['c1_r3'],step['c1_r4'],\n",
    "                         step['c2_r1'],step['c2_r2'],step['c2_r3'],step['c2_r4'],\n",
    "                         step['c3_r1'],step['c3_r2'],step['c3_r3'],step['c3_r4'],\n",
    "                         step['c4_r1'],step['c4_r2'],step['c4_r3'],step['c4_r4'],\n",
    "                       step['move'],score)\n",
    "            cursor.execute(sql,condition)\n",
    "        connection.commit()\n",
    "    finally:\n",
    "        connection.close()\n",
    "\n",
    "\n"
   ]
  },
  {
   "cell_type": "code",
   "execution_count": 343,
   "metadata": {
    "collapsed": false
   },
   "outputs": [],
   "source": [
    "password='k2cxtrb64vi'\n",
    "insert_step_in_db(step_detail,32,password)"
   ]
  },
  {
   "cell_type": "code",
   "execution_count": 375,
   "metadata": {
    "collapsed": false
   },
   "outputs": [
    {
     "name": "stdout",
     "output_type": "stream",
     "text": [
      "{'c1_r1': 2, 'c1_r2': 4, 'c1_r3': 2, 'c1_r4': 0, 'c2_r1': 64, 'c2_r2': 128, 'c2_r3': 2, 'c2_r4': 2, 'c3_r1': 4, 'c3_r2': 0, 'c3_r3': 0, 'c3_r4': 0, 'c4_r1': 0, 'c4_r2': 0, 'c4_r3': 0, 'c4_r4': 0, 'move': 'right'}\n"
     ]
    },
    {
     "data": {
      "text/plain": [
       "()"
      ]
     },
     "execution_count": 375,
     "metadata": {},
     "output_type": "execute_result"
    }
   ],
   "source": [
    "password='k2cxtrb64vi'\n",
    "print(step_detail)\n",
    "find_step_expected(step_detail,password)"
   ]
  },
  {
   "cell_type": "code",
   "execution_count": 372,
   "metadata": {
    "collapsed": false
   },
   "outputs": [],
   "source": [
    "#worker function\n",
    "def play_2048(db_password,retry=1):\n",
    "    #check db connection\n",
    "    import pymysql\n",
    "    try:\n",
    "        connection=pymysql.connect(host=\"192.168.1.188\",user=\"yewenhe0904\",passwd=db_password,db='a2048')\n",
    "    except:\n",
    "        print(\"Problems in DB Connection!\\nQuit...\")\n",
    "        sys.exit(1)\n",
    "    from selenium import webdriver #install selenium\n",
    "    from selenium.webdriver.common.keys import Keys\n",
    "    import time,random,string\n",
    "    print(\"Worker (PID=%s) Started\" % os.getpid())\n",
    "    keymap={'up':Keys.ARROW_UP,\n",
    "        'down':Keys.ARROW_DOWN,\n",
    "        'left':Keys.ARROW_LEFT,\n",
    "        'right':Keys.ARROW_RIGHT}\n",
    "    driver = webdriver.PhantomJS()\n",
    "    driver.get(\"https://wayneyeye.github.io/2048/\")\n",
    "    elem = driver.find_element_by_class_name('game-container')\n",
    "    password=db_password\n",
    "    for i in range(retry):\n",
    "        record=[]\n",
    "        while game_over(driver):\n",
    "            step_detail=current_status(driver)\n",
    "            step_pred=find_step_expected(step_detail,password)\n",
    "            if len(step_pred)>0:\n",
    "                move_pred=step_pred[0][0]\n",
    "                key=next_move(move_pred,0)\n",
    "            else:\n",
    "                key=random.choice(('up','down','left','right'))\n",
    "            step_detail[\"move\"]=key\n",
    "            elem.send_keys(keymap[key])\n",
    "            submit_step(step_detail,record,skip=True)\n",
    "        game_retry(driver)\n",
    "        print(\"Worker (PID=%s) Round %s Submitting Scores\" % (os.getpid(),i+1))\n",
    "        submit_record(record,password=password)\n",
    "        print(\"Worker (PID=%s) Round %s Highest Score: %s\" % (os.getpid(),i+1,get_max_score(record)))\n",
    "    driver.close()\n",
    "    print(\"Worker (PID=%s) Closed\" % os.getpid())\n"
   ]
  },
  {
   "cell_type": "code",
   "execution_count": 373,
   "metadata": {
    "collapsed": false
   },
   "outputs": [
    {
     "name": "stdout",
     "output_type": "stream",
     "text": [
      "DB password? ········\n",
      "Number of workers?1\n",
      "Retry for worker 0?1\n",
      "Worker (PID=15553) Started\n",
      "()\n",
      "()\n",
      "()\n",
      "()\n",
      "()\n",
      "()\n",
      "()\n",
      "()\n",
      "()\n",
      "()\n",
      "()\n",
      "()\n",
      "()\n",
      "()\n",
      "()\n",
      "()\n",
      "()\n",
      "()\n",
      "()\n",
      "()\n",
      "()\n",
      "()\n",
      "()\n",
      "()\n",
      "()\n",
      "()\n",
      "()\n",
      "()\n",
      "()\n",
      "()\n",
      "()\n",
      "()\n",
      "()\n",
      "()\n",
      "()\n",
      "()\n",
      "()\n",
      "()\n",
      "()\n",
      "()\n",
      "()\n",
      "()\n",
      "()\n",
      "()\n",
      "()\n",
      "()\n",
      "()\n",
      "()\n",
      "()\n",
      "()\n",
      "()\n",
      "()\n",
      "()\n",
      "()\n",
      "()\n",
      "()\n",
      "()\n",
      "()\n",
      "()\n",
      "()\n",
      "()\n",
      "()\n",
      "()\n",
      "()\n",
      "()\n",
      "()\n",
      "()\n",
      "()\n",
      "()\n",
      "()\n",
      "()\n",
      "()\n",
      "()\n",
      "()\n",
      "()\n",
      "()\n",
      "()\n",
      "()\n",
      "()\n",
      "()\n",
      "()\n",
      "()\n",
      "()\n",
      "()\n",
      "()\n",
      "()\n",
      "()\n",
      "()\n",
      "()\n",
      "()\n",
      "()\n",
      "()\n",
      "()\n",
      "()\n",
      "()\n",
      "()\n",
      "()\n",
      "()\n",
      "()\n",
      "()\n",
      "()\n",
      "()\n",
      "()\n",
      "()\n",
      "()\n",
      "()\n",
      "()\n",
      "()\n",
      "()\n",
      "()\n",
      "()\n",
      "()\n",
      "()\n",
      "()\n",
      "()\n",
      "()\n",
      "()\n",
      "()\n",
      "()\n",
      "()\n",
      "()\n",
      "()\n",
      "()\n",
      "()\n",
      "()\n",
      "()\n",
      "()\n",
      "()\n",
      "()\n",
      "()\n",
      "()\n",
      "()\n",
      "()\n",
      "()\n",
      "()\n",
      "()\n",
      "()\n",
      "()\n",
      "()\n",
      "()\n",
      "()\n",
      "()\n",
      "()\n",
      "()\n",
      "()\n",
      "()\n",
      "()\n",
      "()\n",
      "()\n",
      "()\n",
      "()\n",
      "()\n",
      "()\n",
      "()\n",
      "()\n",
      "()\n",
      "()\n",
      "()\n",
      "()\n",
      "()\n",
      "()\n",
      "()\n",
      "()\n",
      "()\n",
      "()\n",
      "()\n",
      "()\n",
      "()\n",
      "()\n",
      "()\n",
      "()\n",
      "()\n",
      "()\n",
      "Worker (PID=15553) Round 1 Submitting Scores\n",
      "Worker (PID=15553) Round 1 Highest Score: 128\n",
      "Worker (PID=15553) Closed\n"
     ]
    }
   ],
   "source": [
    "if __name__ == '__main__':\n",
    "    import sys,os\n",
    "    #put geckodriver into the working directory\n",
    "    geckodriver_path=(os.path.join(os.getcwd(),'geckodriver-dir'))#this is wrong search path for modules\n",
    "    geckodriver_path=\":\"+geckodriver_path\n",
    "    os.environ[\"PATH\"]+=geckodriver_path\n",
    "    import concurrent.futures\n",
    "    import getpass\n",
    "    password=getpass.getpass(\"DB password? \")\n",
    "    worker_n=int(input(\"Number of workers?\"))\n",
    "    worker_retrys=[]\n",
    "    for i in range(worker_n):\n",
    "        worker_retrys.append(int(input(\"Retry for worker %s?\" %i)))   \n",
    "    with concurrent.futures.ProcessPoolExecutor(worker_n+2) as executor:\n",
    "        for retry_n in worker_retrys:\n",
    "            executor.submit(play_2048,password,retry_n)"
   ]
  },
  {
   "cell_type": "code",
   "execution_count": null,
   "metadata": {
    "collapsed": true
   },
   "outputs": [],
   "source": []
  },
  {
   "cell_type": "code",
   "execution_count": null,
   "metadata": {
    "collapsed": true
   },
   "outputs": [],
   "source": []
  },
  {
   "cell_type": "code",
   "execution_count": null,
   "metadata": {
    "collapsed": true
   },
   "outputs": [],
   "source": []
  },
  {
   "cell_type": "code",
   "execution_count": null,
   "metadata": {
    "collapsed": true
   },
   "outputs": [],
   "source": []
  },
  {
   "cell_type": "code",
   "execution_count": null,
   "metadata": {
    "collapsed": true
   },
   "outputs": [],
   "source": []
  },
  {
   "cell_type": "code",
   "execution_count": null,
   "metadata": {
    "collapsed": true
   },
   "outputs": [],
   "source": []
  },
  {
   "cell_type": "code",
   "execution_count": null,
   "metadata": {
    "collapsed": true
   },
   "outputs": [],
   "source": []
  },
  {
   "cell_type": "code",
   "execution_count": null,
   "metadata": {
    "collapsed": true
   },
   "outputs": [],
   "source": []
  },
  {
   "cell_type": "code",
   "execution_count": null,
   "metadata": {
    "collapsed": true
   },
   "outputs": [],
   "source": []
  },
  {
   "cell_type": "code",
   "execution_count": null,
   "metadata": {
    "collapsed": true
   },
   "outputs": [],
   "source": []
  },
  {
   "cell_type": "code",
   "execution_count": null,
   "metadata": {
    "collapsed": true
   },
   "outputs": [],
   "source": []
  },
  {
   "cell_type": "code",
   "execution_count": null,
   "metadata": {
    "collapsed": true
   },
   "outputs": [],
   "source": []
  },
  {
   "cell_type": "code",
   "execution_count": null,
   "metadata": {
    "collapsed": true
   },
   "outputs": [],
   "source": []
  },
  {
   "cell_type": "code",
   "execution_count": null,
   "metadata": {
    "collapsed": true
   },
   "outputs": [],
   "source": []
  },
  {
   "cell_type": "code",
   "execution_count": null,
   "metadata": {
    "collapsed": true
   },
   "outputs": [],
   "source": []
  },
  {
   "cell_type": "code",
   "execution_count": null,
   "metadata": {
    "collapsed": true
   },
   "outputs": [],
   "source": []
  },
  {
   "cell_type": "code",
   "execution_count": null,
   "metadata": {
    "collapsed": true
   },
   "outputs": [],
   "source": []
  },
  {
   "cell_type": "code",
   "execution_count": null,
   "metadata": {
    "collapsed": true
   },
   "outputs": [],
   "source": []
  },
  {
   "cell_type": "code",
   "execution_count": null,
   "metadata": {
    "collapsed": true
   },
   "outputs": [],
   "source": []
  }
 ],
 "metadata": {
  "kernelspec": {
   "display_name": "Python 3",
   "language": "python",
   "name": "python3"
  },
  "language_info": {
   "codemirror_mode": {
    "name": "ipython",
    "version": 3
   },
   "file_extension": ".py",
   "mimetype": "text/x-python",
   "name": "python",
   "nbconvert_exporter": "python",
   "pygments_lexer": "ipython3",
   "version": "3.6.0"
  }
 },
 "nbformat": 4,
 "nbformat_minor": 2
}
