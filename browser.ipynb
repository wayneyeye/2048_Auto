{
 "cells": [
  {
   "cell_type": "code",
   "execution_count": 1,
   "metadata": {
    "collapsed": false
   },
   "outputs": [],
   "source": [
    "import sys,os\n",
    "# print(sys.path)\n",
    "# print(os.getcwd())\n",
    "geckodriver_path=(os.path.join(os.getcwd(),'geckodriver-dir'))#this is wrong search path for modules\n",
    "geckodriver_path=\":\"+geckodriver_path\n",
    "# print(geckodriver_path)\n",
    "\n",
    "\n",
    "os.environ[\"PATH\"]+=geckodriver_path\n",
    "# print(os.environ[\"PATH\"])\n",
    "\n",
    "def game_over(driver):\n",
    "    element=driver.find_element_by_class_name('game-message')\n",
    "    display=element.value_of_css_property('display')\n",
    "    return display=='none'\n",
    "def game_retry(driver):\n",
    "    retry_button=driver.find_element_by_class_name(\"retry-button\")\n",
    "    retry_button.click()\n",
    "\n",
    "def current_status(driver):\n",
    "    result={}\n",
    "    for col in range(1,5):\n",
    "        for row in range(1,5):\n",
    "            key=\"c%d_r%d\" %(col,row)\n",
    "            try:\n",
    "                tile=driver.find_element_by_class_name(\"tile-position-%d-%d\" %(col,row))\n",
    "                value=tile.find_element_by_class_name(\"tile-inner\").text\n",
    "                result[key]=int(value)\n",
    "            except:\n",
    "                result[key]=0\n",
    "    return result\n",
    "def get_current_score_addition(driver):\n",
    "    try:\n",
    "        score_addition=int(driver.find_element_by_class_name(\"score-addition\").text.lstrip('+'))\n",
    "    except:\n",
    "        score_addition=0\n",
    "    return score_addition\n",
    "\n",
    "def submit_step(step,record,skip=False):\n",
    "    if skip:\n",
    "        flag=True\n",
    "        if len(record)==0:\n",
    "            record.append(step)\n",
    "        else:\n",
    "            for col in range(1,5):\n",
    "                if flag==False:\n",
    "                    break\n",
    "                for row in range(1,5):\n",
    "                    key=\"c%d_r%d\" %(col,row)\n",
    "                    if step[key]!=record[-1][key]:\n",
    "                        flag=False\n",
    "                        break\n",
    "            if flag==False:\n",
    "                record.append(step)\n",
    "    else:\n",
    "        record.append(step)\n",
    "    print(step,end='\\r')\n",
    "        \n",
    "def submit_record(record,l=10):\n",
    "    print(len(record))\n",
    "    last_records=record[-min(len(record),l):]\n",
    "    for r in last_records:\n",
    "        print(r,end='\\r')\n",
    "\n",
    "def submit_record_sql(record,password):\n",
    "    import pymysql\n",
    "    insert_rows=[(i['c1_r1'],i['c1_r2'],i['c1_r3'],i['c1_r4'],\n",
    "     i['c2_r1'],i['c2_r2'],i['c2_r3'],i['c2_r4'],\n",
    "     i['c3_r1'],i['c3_r2'],i['c3_r3'],i['c3_r4'],\n",
    "     i['c4_r1'],i['c4_r2'],i['c4_r3'],i['c4_r4'],\n",
    "     i['stepno'],i['move'],i['score_addition'],i['gamestart'],i['uuid']) for i in record]\n",
    "    connection=pymysql.connect(host=\"192.168.1.188\",user=\"yewenhe0904\",passwd=password,db='a2048')\n",
    "    try:\n",
    "        with connection.cursor() as cursor:\n",
    "            stmt=\"INSERT INTO testing VALUES (%s, %s, %s, %s, %s, %s, %s, %s, %s, %s, %s,\\\n",
    "     %s, %s, %s, %s, %s, %s, %s, %s, %s, %s)\"\n",
    "            cursor.executemany(stmt,insert_rows)\n",
    "        connection.commit()\n",
    "    finally:\n",
    "        connection.close()\n",
    "        "
   ]
  },
  {
   "cell_type": "code",
   "execution_count": null,
   "metadata": {
    "collapsed": false,
    "scrolled": true
   },
   "outputs": [
    {
     "name": "stdout",
     "output_type": "stream",
     "text": [
      "DB Password:········\n",
      "{'c1_r1': 4, 'c1_r2': 2, 'c1_r3': 8, 'c1_r4': 2, 'c2_r1': 16, 'c2_r2': 32, 'c2_r3': 8, 'c2_r4': 2, 'c3_r1': 2, 'c3_r2': 4, 'c3_r3': 16, 'c3_r4': 8, 'c4_r1': 2, 'c4_r2': 64, 'c4_r3': 2, 'c4_r4': 2, 'stepno': 59, 'move': 1, 'score_addition': 4, 'gamestart': '07152017-223727', 'uuid': '56ea555c69d811e7bf16000c29e25db9'}\r"
     ]
    }
   ],
   "source": [
    "from selenium import webdriver\n",
    "from selenium.webdriver.common.keys import Keys\n",
    "import time,random,string\n",
    "import uuid,getpass\n",
    "password=getpass.getpass(\"DB Password:\")\n",
    "keymap=(Keys.ARROW_UP,Keys.ARROW_DOWN,Keys.ARROW_LEFT,Keys.ARROW_RIGHT)\n",
    "driver = webdriver.PhantomJS()\n",
    "# driver.set_window_size(1024, 768)\n",
    "driver.get(\"https://wayneyeye.github.io/2048/\")\n",
    "elem = driver.find_element_by_class_name('game-container')\n",
    "retry=1\n",
    "# \n",
    "# try\n",
    "for i in range(retry):\n",
    "    record=[]\n",
    "    starttime=time.strftime(\"%m%d%Y-%H%M%S\")\n",
    "    stepno=0\n",
    "    while game_over(driver):\n",
    "        stepno+=1\n",
    "        key=random.randint(0,3)\n",
    "        step_detail=current_status(driver)\n",
    "        step_detail[\"stepno\"]=stepno\n",
    "        step_detail[\"move\"]=key\n",
    "        elem.send_keys(keymap[key])\n",
    "        step_detail[\"score_addition\"]=(get_current_score_addition(driver))\n",
    "        step_detail[\"gamestart\"]=starttime\n",
    "        step_detail[\"uuid\"]=uuid.uuid1().hex\n",
    "        submit_step(step_detail,record)\n",
    "    game_retry(driver)\n",
    "    submit_record_sql(record,password)\n",
    "driver.close()\n"
   ]
  },
  {
   "cell_type": "code",
   "execution_count": null,
   "metadata": {
    "collapsed": true
   },
   "outputs": [],
   "source": []
  },
  {
   "cell_type": "code",
   "execution_count": null,
   "metadata": {
    "collapsed": true
   },
   "outputs": [],
   "source": []
  },
  {
   "cell_type": "code",
   "execution_count": null,
   "metadata": {
    "collapsed": true
   },
   "outputs": [],
   "source": []
  },
  {
   "cell_type": "code",
   "execution_count": null,
   "metadata": {
    "collapsed": true
   },
   "outputs": [],
   "source": []
  },
  {
   "cell_type": "code",
   "execution_count": null,
   "metadata": {
    "collapsed": true
   },
   "outputs": [],
   "source": []
  },
  {
   "cell_type": "code",
   "execution_count": null,
   "metadata": {
    "collapsed": true
   },
   "outputs": [],
   "source": []
  },
  {
   "cell_type": "code",
   "execution_count": null,
   "metadata": {
    "collapsed": true
   },
   "outputs": [],
   "source": []
  },
  {
   "cell_type": "code",
   "execution_count": null,
   "metadata": {
    "collapsed": true
   },
   "outputs": [],
   "source": []
  }
 ],
 "metadata": {
  "kernelspec": {
   "display_name": "Python 3",
   "language": "python",
   "name": "python3"
  },
  "language_info": {
   "codemirror_mode": {
    "name": "ipython",
    "version": 3
   },
   "file_extension": ".py",
   "mimetype": "text/x-python",
   "name": "python",
   "nbconvert_exporter": "python",
   "pygments_lexer": "ipython3",
   "version": "3.6.0"
  }
 },
 "nbformat": 4,
 "nbformat_minor": 2
}
