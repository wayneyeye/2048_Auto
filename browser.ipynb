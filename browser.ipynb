{
 "cells": [
  {
   "cell_type": "code",
   "execution_count": 1,
   "metadata": {
    "collapsed": false
   },
   "outputs": [
    {
     "name": "stdout",
     "output_type": "stream",
     "text": [
      ":/home/yewenhe0904/Developing/2048/geckodriver-dir\n"
     ]
    }
   ],
   "source": [
    "import sys,os\n",
    "# print(sys.path)\n",
    "# print(os.getcwd())\n",
    "geckodriver_path=(os.path.join(os.getcwd(),'geckodriver-dir'))#this is wrong search path for modules\n",
    "geckodriver_path=\":\"+geckodriver_path\n",
    "print(geckodriver_path)\n"
   ]
  },
  {
   "cell_type": "code",
   "execution_count": 2,
   "metadata": {
    "collapsed": false,
    "scrolled": true
   },
   "outputs": [
    {
     "name": "stdout",
     "output_type": "stream",
     "text": [
      "/home/yewenhe0904/anaconda3/bin:/home/yewenhe0904/anaconda3/bin:/home/yewenhe0904/bin:/home/yewenhe0904/.local/bin:/usr/local/sbin:/usr/local/bin:/usr/sbin:/usr/bin:/sbin:/bin:/usr/games:/usr/local/games:/snap/bin:/home/yewenhe0904/Developing/2048/geckodriver-dir\n"
     ]
    }
   ],
   "source": [
    "os.environ[\"PATH\"]+=geckodriver_path\n",
    "print(os.environ[\"PATH\"])"
   ]
  },
  {
   "cell_type": "code",
   "execution_count": 108,
   "metadata": {
    "collapsed": true
   },
   "outputs": [],
   "source": [
    "def game_over(driver):\n",
    "    element=driver.find_element_by_class_name('game-message')\n",
    "    display=element.value_of_css_property('display')\n",
    "    return display=='none'\n",
    "def game_retry(driver):\n",
    "    retry_button=driver.find_element_by_class_name(\"retry-button\")\n",
    "    retry_button.click()\n",
    "\n",
    "def current_status(driver):\n",
    "    result={}\n",
    "    for col in range(1,5):\n",
    "        for row in range(1,5):\n",
    "            key=\"c%d-r%d\" %(col,row)\n",
    "            try:\n",
    "                tile=driver.find_element_by_class_name(\"tile-position-%d-%d\" %(col,row))\n",
    "                value=tile.find_element_by_class_name(\"tile-inner\").text\n",
    "                result[key]=int(value)\n",
    "            except:\n",
    "                result[key]=0\n",
    "    return result\n",
    "def get_current_score_addition(driver):\n",
    "    try:\n",
    "        score_addition=int(driver.find_element_by_class_name(\"score-addition\").text.lstrip('+'))\n",
    "    except:\n",
    "        score_addition=0\n",
    "    return score_addition\n",
    "\n",
    "def submit_step(step,record,skip=False):\n",
    "    if skip:\n",
    "        flag=True\n",
    "        if len(record)==0:\n",
    "            record.append(step)\n",
    "        else:\n",
    "            for col in range(1,5):\n",
    "                if flag==False:\n",
    "                    break\n",
    "                for row in range(1,5):\n",
    "                    key=\"c%d-r%d\" %(col,row)\n",
    "                    if step[key]!=record[-1][key]:\n",
    "                        flag=False\n",
    "                        break\n",
    "            if flag==False:\n",
    "                record.append(step)\n",
    "    else:\n",
    "        record.append(step)\n",
    "        \n",
    "def submit_record(record,l=10):\n",
    "    print(len(record))\n",
    "    last_records=record[-min(len(record),l):]\n",
    "    for r in last_records:\n",
    "        print(r)"
   ]
  },
  {
   "cell_type": "code",
   "execution_count": 107,
   "metadata": {
    "collapsed": false,
    "scrolled": true
   },
   "outputs": [
    {
     "name": "stdout",
     "output_type": "stream",
     "text": [
      "124\n"
     ]
    },
    {
     "ename": "TypeError",
     "evalue": "list indices must be integers or slices, not dict",
     "output_type": "error",
     "traceback": [
      "\u001b[0;31m---------------------------------------------------------------------------\u001b[0m",
      "\u001b[0;31mTypeError\u001b[0m                                 Traceback (most recent call last)",
      "\u001b[0;32m<ipython-input-107-8620098d59fa>\u001b[0m in \u001b[0;36m<module>\u001b[0;34m()\u001b[0m\n\u001b[1;32m     23\u001b[0m         \u001b[0msubmit_step\u001b[0m\u001b[0;34m(\u001b[0m\u001b[0mstep_detail\u001b[0m\u001b[0;34m,\u001b[0m\u001b[0mrecord\u001b[0m\u001b[0;34m)\u001b[0m\u001b[0;34m\u001b[0m\u001b[0m\n\u001b[1;32m     24\u001b[0m     \u001b[0mgame_retry\u001b[0m\u001b[0;34m(\u001b[0m\u001b[0mdriver\u001b[0m\u001b[0;34m)\u001b[0m\u001b[0;34m\u001b[0m\u001b[0m\n\u001b[0;32m---> 25\u001b[0;31m     \u001b[0msubmit_record\u001b[0m\u001b[0;34m(\u001b[0m\u001b[0mrecord\u001b[0m\u001b[0;34m)\u001b[0m\u001b[0;34m\u001b[0m\u001b[0m\n\u001b[0m\u001b[1;32m     26\u001b[0m \u001b[0mdriver\u001b[0m\u001b[0;34m.\u001b[0m\u001b[0mclose\u001b[0m\u001b[0;34m(\u001b[0m\u001b[0;34m)\u001b[0m\u001b[0;34m\u001b[0m\u001b[0m\n",
      "\u001b[0;32m<ipython-input-106-b2435960f32d>\u001b[0m in \u001b[0;36msubmit_record\u001b[0;34m(record, l)\u001b[0m\n\u001b[1;32m     49\u001b[0m     \u001b[0mlast_records\u001b[0m\u001b[0;34m=\u001b[0m\u001b[0mrecord\u001b[0m\u001b[0;34m[\u001b[0m\u001b[0;34m-\u001b[0m\u001b[0mmin\u001b[0m\u001b[0;34m(\u001b[0m\u001b[0mlen\u001b[0m\u001b[0;34m(\u001b[0m\u001b[0mrecord\u001b[0m\u001b[0;34m)\u001b[0m\u001b[0;34m,\u001b[0m\u001b[0ml\u001b[0m\u001b[0;34m)\u001b[0m\u001b[0;34m:\u001b[0m\u001b[0;34m]\u001b[0m\u001b[0;34m\u001b[0m\u001b[0m\n\u001b[1;32m     50\u001b[0m     \u001b[0;32mfor\u001b[0m \u001b[0mi\u001b[0m \u001b[0;32min\u001b[0m \u001b[0mlast_records\u001b[0m\u001b[0;34m:\u001b[0m\u001b[0;34m\u001b[0m\u001b[0m\n\u001b[0;32m---> 51\u001b[0;31m         \u001b[0mprint\u001b[0m\u001b[0;34m(\u001b[0m\u001b[0mlast_records\u001b[0m\u001b[0;34m[\u001b[0m\u001b[0mi\u001b[0m\u001b[0;34m]\u001b[0m\u001b[0;34m)\u001b[0m\u001b[0;34m\u001b[0m\u001b[0m\n\u001b[0m",
      "\u001b[0;31mTypeError\u001b[0m: list indices must be integers or slices, not dict"
     ]
    }
   ],
   "source": [
    "from selenium import webdriver\n",
    "from selenium.webdriver.common.keys import Keys\n",
    "import time,random,string\n",
    "keymap=(Keys.ARROW_UP,Keys.ARROW_DOWN,Keys.ARROW_LEFT,Keys.ARROW_RIGHT)\n",
    "driver = webdriver.Firefox()\n",
    "driver.get(\"https://wayneyeye.github.io/2048/\")\n",
    "elem = driver.find_element_by_class_name('game-container')\n",
    "retry=1\n",
    "# \n",
    "# try\n",
    "for i in range(retry):\n",
    "    record=[]\n",
    "    starttime=time.strftime(\"%m%d%Y\")\n",
    "    while game_over(driver):\n",
    "        key=random.randint(0,3)\n",
    "        step_detail=current_status(driver)\n",
    "        step_detail[\"move\"]=key\n",
    "#         print(step_detail)\n",
    "        elem.send_keys(keymap[key])\n",
    "        time.sleep(0.01)\n",
    "        step_detail[\"score-addition\"]=(get_current_score_addition(driver))\n",
    "        time.sleep(0.01)\n",
    "        submit_step(step_detail,record)\n",
    "    game_retry(driver)\n",
    "    submit_record(record)\n",
    "driver.close()\n"
   ]
  },
  {
   "cell_type": "code",
   "execution_count": 109,
   "metadata": {
    "collapsed": false
   },
   "outputs": [
    {
     "name": "stdout",
     "output_type": "stream",
     "text": [
      "124\n",
      "{'c1-r1': 4, 'c1-r2': 8, 'c1-r3': 2, 'c1-r4': 8, 'c2-r1': 8, 'c2-r2': 32, 'c2-r3': 64, 'c2-r4': 2, 'c3-r1': 2, 'c3-r2': 2, 'c3-r3': 8, 'c3-r4': 16, 'c4-r1': 0, 'c4-r2': 2, 'c4-r3': 4, 'c4-r4': 64, 'move': 2, 'score-addition': 0}\n",
      "{'c1-r1': 4, 'c1-r2': 8, 'c1-r3': 2, 'c1-r4': 8, 'c2-r1': 8, 'c2-r2': 32, 'c2-r3': 64, 'c2-r4': 2, 'c3-r1': 2, 'c3-r2': 2, 'c3-r3': 8, 'c3-r4': 16, 'c4-r1': 2, 'c4-r2': 0, 'c4-r3': 4, 'c4-r4': 64, 'move': 0, 'score-addition': 0}\n",
      "{'c1-r1': 4, 'c1-r2': 8, 'c1-r3': 2, 'c1-r4': 8, 'c2-r1': 8, 'c2-r2': 32, 'c2-r3': 64, 'c2-r4': 2, 'c3-r1': 2, 'c3-r2': 4, 'c3-r3': 8, 'c3-r4': 16, 'c4-r1': 2, 'c4-r2': 4, 'c4-r3': 64, 'c4-r4': 2, 'move': 1, 'score-addition': 0}\n",
      "{'c1-r1': 4, 'c1-r2': 8, 'c1-r3': 2, 'c1-r4': 8, 'c2-r1': 8, 'c2-r2': 32, 'c2-r3': 64, 'c2-r4': 2, 'c3-r1': 2, 'c3-r2': 4, 'c3-r3': 8, 'c3-r4': 16, 'c4-r1': 2, 'c4-r2': 4, 'c4-r3': 64, 'c4-r4': 2, 'move': 3, 'score-addition': 12}\n",
      "{'c1-r1': 0, 'c1-r2': 0, 'c1-r3': 2, 'c1-r4': 8, 'c2-r1': 4, 'c2-r2': 8, 'c2-r3': 64, 'c2-r4': 2, 'c3-r1': 8, 'c3-r2': 32, 'c3-r3': 8, 'c3-r4': 16, 'c4-r1': 2, 'c4-r2': 4, 'c4-r3': 64, 'c4-r4': 2, 'move': 1, 'score-addition': 4}\n",
      "{'c1-r1': 0, 'c1-r2': 0, 'c1-r3': 2, 'c1-r4': 8, 'c2-r1': 4, 'c2-r2': 8, 'c2-r3': 64, 'c2-r4': 2, 'c3-r1': 8, 'c3-r2': 32, 'c3-r3': 8, 'c3-r4': 16, 'c4-r1': 4, 'c4-r2': 8, 'c4-r3': 64, 'c4-r4': 2, 'move': 0, 'score-addition': 0}\n",
      "{'c1-r1': 2, 'c1-r2': 4, 'c1-r3': 8, 'c1-r4': 2, 'c2-r1': 4, 'c2-r2': 8, 'c2-r3': 64, 'c2-r4': 2, 'c3-r1': 8, 'c3-r2': 32, 'c3-r3': 8, 'c3-r4': 16, 'c4-r1': 4, 'c4-r2': 8, 'c4-r3': 64, 'c4-r4': 2, 'move': 0, 'score-addition': 0}\n",
      "{'c1-r1': 2, 'c1-r2': 4, 'c1-r3': 8, 'c1-r4': 2, 'c2-r1': 4, 'c2-r2': 8, 'c2-r3': 64, 'c2-r4': 2, 'c3-r1': 8, 'c3-r2': 32, 'c3-r3': 8, 'c3-r4': 16, 'c4-r1': 4, 'c4-r2': 8, 'c4-r3': 64, 'c4-r4': 2, 'move': 1, 'score-addition': 0}\n",
      "{'c1-r1': 2, 'c1-r2': 4, 'c1-r3': 8, 'c1-r4': 2, 'c2-r1': 4, 'c2-r2': 8, 'c2-r3': 64, 'c2-r4': 2, 'c3-r1': 8, 'c3-r2': 32, 'c3-r3': 8, 'c3-r4': 16, 'c4-r1': 4, 'c4-r2': 8, 'c4-r3': 64, 'c4-r4': 2, 'move': 2, 'score-addition': 4}\n",
      "{'c1-r1': 2, 'c1-r2': 4, 'c1-r3': 8, 'c1-r4': 2, 'c2-r1': 4, 'c2-r2': 8, 'c2-r3': 64, 'c2-r4': 16, 'c3-r1': 8, 'c3-r2': 32, 'c3-r3': 8, 'c3-r4': 2, 'c4-r1': 4, 'c4-r2': 8, 'c4-r3': 64, 'c4-r4': 2, 'move': 2, 'score-addition': 0}\n"
     ]
    }
   ],
   "source": [
    "submit_record(record)"
   ]
  }
 ],
 "metadata": {
  "kernelspec": {
   "display_name": "Python 3",
   "language": "python",
   "name": "python3"
  },
  "language_info": {
   "codemirror_mode": {
    "name": "ipython",
    "version": 3
   },
   "file_extension": ".py",
   "mimetype": "text/x-python",
   "name": "python",
   "nbconvert_exporter": "python",
   "pygments_lexer": "ipython3",
   "version": "3.6.0"
  }
 },
 "nbformat": 4,
 "nbformat_minor": 2
}
