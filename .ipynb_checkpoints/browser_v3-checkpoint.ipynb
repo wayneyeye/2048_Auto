{
 "cells": [
  {
   "cell_type": "code",
   "execution_count": 1,
   "metadata": {
    "collapsed": true
   },
   "outputs": [],
   "source": [
    "import sys,os\n",
    "import concurrent.futures\n",
    "import getpass\n",
    "from selenium import webdriver #install selenium\n",
    "from selenium.webdriver.common.keys import Keys\n",
    "import time,random,string\n",
    "#put geckodriver into the working directory\n",
    "geckodriver_path=(os.path.join(os.getcwd(),'geckodriver-dir'))#this is wrong search path for modules\n",
    "geckodriver_path=\":\"+geckodriver_path\n",
    "os.environ[\"PATH\"]+=geckodriver_path\n",
    "\n",
    "\n",
    "\n"
   ]
  },
  {
   "cell_type": "code",
   "execution_count": 45,
   "metadata": {
    "collapsed": true
   },
   "outputs": [],
   "source": [
    "def current_status(driver):\n",
    "    result={}\n",
    "    for col in range(1,5):\n",
    "        for row in range(1,5):\n",
    "            key=\"c%d_r%d\" %(col,row)\n",
    "            try:\n",
    "                tile=driver.find_element_by_class_name(\"tile-position-%d-%d\" %(col,row))\n",
    "                value=tile.find_element_by_class_name(\"tile-inner\").text\n",
    "                result[key]=int(value)\n",
    "            except:\n",
    "                result[key]=0\n",
    "    return result\n",
    "def get_score(driver):\n",
    "    try:\n",
    "        value=driver.find_element_by_class_name(\"score-container\").text\n",
    "        result=int(value)\n",
    "    except:\n",
    "        result=0\n",
    "    return result\n",
    "\n",
    "def game_over(driver):\n",
    "    element=driver.find_element_by_class_name('game-message')\n",
    "    display=element.value_of_css_property('display')\n",
    "    return display=='none'\n",
    "\n",
    "def game_retry(driver):\n",
    "    retry_button=driver.find_element_by_class_name(\"retry-button\")\n",
    "    retry_button.click()\n",
    "    \n",
    "    \n"
   ]
  },
  {
   "cell_type": "code",
   "execution_count": 76,
   "metadata": {
    "collapsed": false
   },
   "outputs": [],
   "source": [
    "import copy\n",
    "keymap={'up':Keys.ARROW_UP,\n",
    "        'down':Keys.ARROW_DOWN,\n",
    "        'left':Keys.ARROW_LEFT,\n",
    "        'right':Keys.ARROW_RIGHT}\n",
    "driver = webdriver.Firefox()\n",
    "driver.get(\"https://wayneyeye.github.io/2048/\")\n",
    "\n",
    "\n",
    "driver_s = webdriver.Firefox()\n",
    "driver_s.get(\"https://wayneyeye.github.io/2048_shadow/\")\n",
    "\n",
    "\n",
    "\n",
    "\n"
   ]
  },
  {
   "cell_type": "code",
   "execution_count": 80,
   "metadata": {
    "collapsed": false
   },
   "outputs": [],
   "source": [
    "try_score={}\n",
    "def shadow_and_try(driver_s,gameState,try_score,depth=1):\n",
    "    try_score['Max']=0\n",
    "    if not game_over(driver_s):\n",
    "        score=get_score(driver_s)\n",
    "        game_retry(driver_s)\n",
    "#         print(score)\n",
    "        return score\n",
    "    if depth==0: \n",
    "        score=get_score(driver_s)\n",
    "#         print(score)\n",
    "        return score\n",
    "    for rep in range(1):\n",
    "        for move in ['up','down','left','right']:\n",
    "        #return to initial state\n",
    "#             game_retry(driver_s)\n",
    "            try_score[move]={}\n",
    "            js_stmt=\"new GameManager(4, KeyboardInputManager, HTMLActuator, LocalStorageManager,%s);\" %gameState\n",
    "            driver_s.execute_script(js_stmt)\n",
    "            time.sleep(3)\n",
    "            #make try move\n",
    "            elem=driver_s.find_element_by_class_name('game-container')\n",
    "            elem.send_keys(keymap[move])\n",
    "            time.sleep(3)\n",
    "            #get status\n",
    "            gameState2=driver_s.execute_script(\"return localStorage.gameState;\")\n",
    "#             print(gameState)\n",
    "#             print(gameState2)\n",
    "            if gameState==gameState2:\n",
    "                print(gameState)\n",
    "                print(gameState2)\n",
    "                continue\n",
    "            try_score['Max']=max(shadow_and_try(driver_s,gameState2,try_score[move],depth=depth-1),try_score['Max'])\n",
    "    return try_score['Max']"
   ]
  },
  {
   "cell_type": "code",
   "execution_count": 77,
   "metadata": {
    "collapsed": true
   },
   "outputs": [],
   "source": [
    "gameState=driver.execute_script(\"return localStorage.gameState;\")"
   ]
  },
  {
   "cell_type": "code",
   "execution_count": 78,
   "metadata": {
    "collapsed": false
   },
   "outputs": [
    {
     "name": "stdout",
     "output_type": "stream",
     "text": [
      "{\"grid\":{\"size\":4,\"cells\":[[null,null,null,null],[null,null,null,null],[null,null,null,null],[{\"position\":{\"x\":3,\"y\":0},\"value\":2},null,{\"position\":{\"x\":3,\"y\":2},\"value\":2},null]]},\"score\":0,\"over\":false,\"won\":false,\"keepPlaying\":false}\n"
     ]
    }
   ],
   "source": [
    "print(gameState)"
   ]
  },
  {
   "cell_type": "code",
   "execution_count": 81,
   "metadata": {
    "collapsed": false,
    "scrolled": true
   },
   "outputs": [
    {
     "name": "stdout",
     "output_type": "stream",
     "text": [
      "{'Max': 8,\n",
      " 'down': {'Max': 4,\n",
      "          'down': {'Max': 0},\n",
      "          'left': {'Max': 0},\n",
      "          'right': {'Max': 0},\n",
      "          'up': {'Max': 0}},\n",
      " 'left': {'Max': 4,\n",
      "          'down': {'Max': 0},\n",
      "          'left': {'Max': 0},\n",
      "          'right': {'Max': 0},\n",
      "          'up': {'Max': 0}},\n",
      " 'right': {'Max': 8,\n",
      "           'down': {'Max': 0},\n",
      "           'left': {'Max': 0},\n",
      "           'right': {'Max': 0},\n",
      "           'up': {'Max': 0}},\n",
      " 'up': {'Max': 4,\n",
      "        'down': {'Max': 0},\n",
      "        'left': {'Max': 0},\n",
      "        'right': {'Max': 0},\n",
      "        'up': {'Max': 0}}}\n"
     ]
    }
   ],
   "source": [
    "import pprint\n",
    "try_score={}\n",
    "gameState=driver.execute_script(\"return localStorage.gameState;\")\n",
    "shadow_and_try(driver_s,gameState,try_score,depth=2)\n",
    "pprint.pprint(try_score)"
   ]
  },
  {
   "cell_type": "code",
   "execution_count": 63,
   "metadata": {
    "collapsed": false
   },
   "outputs": [
    {
     "data": {
      "text/plain": [
       "{'Max': 76,\n",
       " 'down': {'Max': 24,\n",
       "  'down': {'Max': 20,\n",
       "   'down': {'Max': 0},\n",
       "   'left': {'Max': 0},\n",
       "   'right': {'Max': 0},\n",
       "   'up': {'Max': 0}},\n",
       "  'left': {'Max': 24,\n",
       "   'down': {'Max': 0},\n",
       "   'left': {'Max': 0},\n",
       "   'right': {'Max': 0},\n",
       "   'up': {'Max': 0}},\n",
       "  'right': {'Max': 24,\n",
       "   'down': {'Max': 0},\n",
       "   'left': {'Max': 0},\n",
       "   'right': {'Max': 0},\n",
       "   'up': {'Max': 0}},\n",
       "  'up': {'Max': 8,\n",
       "   'down': {'Max': 0},\n",
       "   'left': {'Max': 0},\n",
       "   'right': {'Max': 0},\n",
       "   'up': {'Max': 0}}},\n",
       " 'left': {'Max': 48,\n",
       "  'down': {'Max': 28,\n",
       "   'down': {'Max': 0},\n",
       "   'left': {'Max': 0},\n",
       "   'right': {'Max': 0},\n",
       "   'up': {'Max': 0}},\n",
       "  'left': {'Max': 32,\n",
       "   'down': {'Max': 0},\n",
       "   'left': {'Max': 0},\n",
       "   'right': {'Max': 0},\n",
       "   'up': {'Max': 0}},\n",
       "  'right': {'Max': 48,\n",
       "   'down': {'Max': 0},\n",
       "   'left': {'Max': 0},\n",
       "   'right': {'Max': 0},\n",
       "   'up': {'Max': 0}},\n",
       "  'up': {'Max': 0}},\n",
       " 'right': {'Max': 36,\n",
       "  'down': {'Max': 24,\n",
       "   'down': {'Max': 0},\n",
       "   'left': {'Max': 0},\n",
       "   'right': {'Max': 0},\n",
       "   'up': {'Max': 0}},\n",
       "  'left': {'Max': 36,\n",
       "   'down': {'Max': 0},\n",
       "   'left': {'Max': 0},\n",
       "   'right': {'Max': 0},\n",
       "   'up': {'Max': 0}},\n",
       "  'right': {'Max': 36,\n",
       "   'down': {'Max': 0},\n",
       "   'left': {'Max': 0},\n",
       "   'right': {'Max': 0},\n",
       "   'up': {'Max': 0}},\n",
       "  'up': {'Max': 20,\n",
       "   'down': {'Max': 0},\n",
       "   'left': {'Max': 0},\n",
       "   'right': {'Max': 0},\n",
       "   'up': {'Max': 0}}},\n",
       " 'up': {'Max': 76,\n",
       "  'down': {'Max': 32,\n",
       "   'down': {'Max': 0},\n",
       "   'left': {'Max': 0},\n",
       "   'right': {'Max': 0},\n",
       "   'up': {'Max': 0}},\n",
       "  'left': {'Max': 36,\n",
       "   'down': {'Max': 0},\n",
       "   'left': {'Max': 0},\n",
       "   'right': {'Max': 0},\n",
       "   'up': {'Max': 0}},\n",
       "  'right': {'Max': 76,\n",
       "   'down': {'Max': 0},\n",
       "   'left': {'Max': 0},\n",
       "   'right': {'Max': 0},\n",
       "   'up': {'Max': 0}},\n",
       "  'up': {'Max': 60,\n",
       "   'down': {'Max': 0},\n",
       "   'left': {'Max': 0},\n",
       "   'right': {'Max': 0},\n",
       "   'up': {'Max': 0}}}}"
      ]
     },
     "execution_count": 63,
     "metadata": {},
     "output_type": "execute_result"
    }
   ],
   "source": [
    "try_score"
   ]
  },
  {
   "cell_type": "code",
   "execution_count": 40,
   "metadata": {
    "collapsed": true
   },
   "outputs": [],
   "source": [
    "driver.close()\n",
    "driver_s.close()"
   ]
  },
  {
   "cell_type": "code",
   "execution_count": null,
   "metadata": {
    "collapsed": true
   },
   "outputs": [],
   "source": []
  },
  {
   "cell_type": "code",
   "execution_count": null,
   "metadata": {
    "collapsed": true
   },
   "outputs": [],
   "source": []
  },
  {
   "cell_type": "code",
   "execution_count": null,
   "metadata": {
    "collapsed": true
   },
   "outputs": [],
   "source": []
  },
  {
   "cell_type": "code",
   "execution_count": null,
   "metadata": {
    "collapsed": true
   },
   "outputs": [],
   "source": []
  },
  {
   "cell_type": "code",
   "execution_count": null,
   "metadata": {
    "collapsed": true
   },
   "outputs": [],
   "source": []
  },
  {
   "cell_type": "code",
   "execution_count": null,
   "metadata": {
    "collapsed": true
   },
   "outputs": [],
   "source": []
  },
  {
   "cell_type": "code",
   "execution_count": null,
   "metadata": {
    "collapsed": true
   },
   "outputs": [],
   "source": []
  },
  {
   "cell_type": "code",
   "execution_count": null,
   "metadata": {
    "collapsed": true
   },
   "outputs": [],
   "source": []
  },
  {
   "cell_type": "code",
   "execution_count": null,
   "metadata": {
    "collapsed": true
   },
   "outputs": [],
   "source": []
  },
  {
   "cell_type": "code",
   "execution_count": null,
   "metadata": {
    "collapsed": true
   },
   "outputs": [],
   "source": []
  },
  {
   "cell_type": "code",
   "execution_count": null,
   "metadata": {
    "collapsed": true
   },
   "outputs": [],
   "source": []
  },
  {
   "cell_type": "code",
   "execution_count": null,
   "metadata": {
    "collapsed": true
   },
   "outputs": [],
   "source": []
  },
  {
   "cell_type": "code",
   "execution_count": null,
   "metadata": {
    "collapsed": true
   },
   "outputs": [],
   "source": []
  },
  {
   "cell_type": "code",
   "execution_count": null,
   "metadata": {
    "collapsed": true
   },
   "outputs": [],
   "source": []
  },
  {
   "cell_type": "code",
   "execution_count": null,
   "metadata": {
    "collapsed": true
   },
   "outputs": [],
   "source": []
  },
  {
   "cell_type": "code",
   "execution_count": null,
   "metadata": {
    "collapsed": true
   },
   "outputs": [],
   "source": []
  },
  {
   "cell_type": "code",
   "execution_count": null,
   "metadata": {
    "collapsed": true
   },
   "outputs": [],
   "source": []
  },
  {
   "cell_type": "code",
   "execution_count": null,
   "metadata": {
    "collapsed": true
   },
   "outputs": [],
   "source": []
  },
  {
   "cell_type": "code",
   "execution_count": null,
   "metadata": {
    "collapsed": true
   },
   "outputs": [],
   "source": []
  },
  {
   "cell_type": "code",
   "execution_count": null,
   "metadata": {
    "collapsed": true
   },
   "outputs": [],
   "source": []
  },
  {
   "cell_type": "code",
   "execution_count": null,
   "metadata": {
    "collapsed": true
   },
   "outputs": [],
   "source": []
  },
  {
   "cell_type": "code",
   "execution_count": null,
   "metadata": {
    "collapsed": true
   },
   "outputs": [],
   "source": []
  },
  {
   "cell_type": "code",
   "execution_count": null,
   "metadata": {
    "collapsed": true
   },
   "outputs": [],
   "source": []
  },
  {
   "cell_type": "code",
   "execution_count": null,
   "metadata": {
    "collapsed": true
   },
   "outputs": [],
   "source": []
  },
  {
   "cell_type": "code",
   "execution_count": null,
   "metadata": {
    "collapsed": true
   },
   "outputs": [],
   "source": []
  },
  {
   "cell_type": "code",
   "execution_count": null,
   "metadata": {
    "collapsed": true
   },
   "outputs": [],
   "source": []
  },
  {
   "cell_type": "code",
   "execution_count": null,
   "metadata": {
    "collapsed": true
   },
   "outputs": [],
   "source": []
  },
  {
   "cell_type": "code",
   "execution_count": null,
   "metadata": {
    "collapsed": true
   },
   "outputs": [],
   "source": []
  },
  {
   "cell_type": "code",
   "execution_count": null,
   "metadata": {
    "collapsed": true
   },
   "outputs": [],
   "source": []
  },
  {
   "cell_type": "code",
   "execution_count": null,
   "metadata": {
    "collapsed": true
   },
   "outputs": [],
   "source": []
  },
  {
   "cell_type": "code",
   "execution_count": null,
   "metadata": {
    "collapsed": true
   },
   "outputs": [],
   "source": []
  },
  {
   "cell_type": "code",
   "execution_count": null,
   "metadata": {
    "collapsed": true
   },
   "outputs": [],
   "source": []
  },
  {
   "cell_type": "code",
   "execution_count": null,
   "metadata": {
    "collapsed": true
   },
   "outputs": [],
   "source": []
  },
  {
   "cell_type": "code",
   "execution_count": null,
   "metadata": {
    "collapsed": true
   },
   "outputs": [],
   "source": []
  },
  {
   "cell_type": "code",
   "execution_count": null,
   "metadata": {
    "collapsed": true
   },
   "outputs": [],
   "source": []
  },
  {
   "cell_type": "code",
   "execution_count": null,
   "metadata": {
    "collapsed": true
   },
   "outputs": [],
   "source": []
  },
  {
   "cell_type": "code",
   "execution_count": null,
   "metadata": {
    "collapsed": true
   },
   "outputs": [],
   "source": []
  }
 ],
 "metadata": {
  "kernelspec": {
   "display_name": "Python 3",
   "language": "python",
   "name": "python3"
  },
  "language_info": {
   "codemirror_mode": {
    "name": "ipython",
    "version": 3
   },
   "file_extension": ".py",
   "mimetype": "text/x-python",
   "name": "python",
   "nbconvert_exporter": "python",
   "pygments_lexer": "ipython3",
   "version": "3.6.0"
  }
 },
 "nbformat": 4,
 "nbformat_minor": 2
}
