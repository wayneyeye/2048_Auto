{
 "cells": [
  {
   "cell_type": "code",
   "execution_count": 1,
   "metadata": {
    "collapsed": true
   },
   "outputs": [],
   "source": [
    "from selenium import webdriver #install selenium\n",
    "from selenium.webdriver.common.keys import Keys\n",
    "import time,random,string\n",
    "\n",
    "\n"
   ]
  },
  {
   "cell_type": "code",
   "execution_count": 224,
   "metadata": {
    "collapsed": true
   },
   "outputs": [],
   "source": [
    "def next_move(desired, priority):\n",
    "    import random\n",
    "    choice=['up','down','left','right']\n",
    "    choice.remove(desired)\n",
    "    chance_not_desired=(1-priority)/4\n",
    "    cut_values=[priority+chance_not_desired,priority+2*chance_not_desired,priority+3*chance_not_desired]\n",
    "#     print(cut_values)\n",
    "    dice=random.random()\n",
    "    if dice<=cut_values[0]:\n",
    "        return desired\n",
    "    elif dice<=cut_values[1]:\n",
    "        return choice[0]\n",
    "    elif dice<=cut_values[2]:\n",
    "        return choice[1]\n",
    "    else:\n",
    "        return choice[2]"
   ]
  },
  {
   "cell_type": "code",
   "execution_count": 278,
   "metadata": {
    "collapsed": true
   },
   "outputs": [],
   "source": [
    "import sys,os\n",
    "geckodriver_path=(os.path.join(os.getcwd(),'geckodriver-dir'))\n",
    "geckodriver_path=\":\"+geckodriver_path\n",
    "os.environ[\"PATH\"]+=geckodriver_path\n"
   ]
  },
  {
   "cell_type": "code",
   "execution_count": 323,
   "metadata": {
    "collapsed": false
   },
   "outputs": [],
   "source": [
    "def game_over(driver):\n",
    "    element=driver.find_element_by_class_name('game-message')\n",
    "    display=element.value_of_css_property('display')\n",
    "    return display=='none'\n",
    "def game_retry(driver):\n",
    "    retry_button=driver.find_element_by_class_name(\"retry-button\")\n",
    "    retry_button.click()\n",
    "\n",
    "def current_status(driver):\n",
    "    result={}\n",
    "    for col in range(1,5):\n",
    "        for row in range(1,5):\n",
    "            key=\"c%d_r%d\" %(col,row)\n",
    "            try:\n",
    "                tile=driver.find_element_by_class_name(\"tile-position-%d-%d\" %(col,row))\n",
    "                value=tile.find_element_by_class_name(\"tile-inner\").text\n",
    "                result[key]=int(value)\n",
    "            except:\n",
    "                result[key]=0\n",
    "    return result\n",
    "def submit_step(step,record,skip=False):\n",
    "    if skip:\n",
    "        flag=True\n",
    "        if len(record)==0:\n",
    "            record.append(step)\n",
    "        else:\n",
    "            for col in range(1,5):\n",
    "                if flag==False:\n",
    "                    break\n",
    "                for row in range(1,5):\n",
    "                    key=\"c%d_r%d\" %(col,row)\n",
    "                    if step[key]!=record[-1][key]:\n",
    "                        flag=False\n",
    "                        break\n",
    "            if flag==False:\n",
    "                record.append(step)\n",
    "    else:\n",
    "        record.append(step)\n",
    "        print(step,end='\\r')\n",
    "        \n",
    "def get_max_score(record):\n",
    "    grid=[]\n",
    "    score=0\n",
    "    for col in range(1,5):\n",
    "        for row in range(1,5):\n",
    "            key=\"c%d_r%d\" %(col,row)\n",
    "            try:\n",
    "                grid.append(record[-1][key])\n",
    "            except:\n",
    "                grid.append(0)\n",
    "    score=max(grid)\n",
    "    return (score)\n",
    "\n",
    "def submit_record(record):\n",
    "    current_round_score=get_max_score(record)\n",
    "    for s in record:\n",
    "        if find_step_in_db(s):\n",
    "            update_step_in_db(s,current_round_score)\n",
    "        else:\n",
    "            insert_step_in_db(s,current_round_score)\n",
    "            \n",
    "            \n",
    "def find_step_in_db(step,password):\n",
    "    import pymysql\n",
    "    connection=pymysql.connect(host=\"192.168.1.188\",user=\"yewenhe0904\",passwd=password,db='a2048')\n",
    "    try:\n",
    "        with connection.cursor() as cursor:\n",
    "            sql='''SELECT COUNT(*) as count FROM testing_v2\n",
    "            WHERE '''\n",
    "            stmt=''\n",
    "            for col in range(1,5):\n",
    "                    for row in range(1,5):\n",
    "                        key=\"c%d_r%d\" %(col,row)\n",
    "                        p=(\" %s=%%s AND\" % key)\n",
    "                        stmt+=p\n",
    "            stmt+=' 1=1'\n",
    "            sql=sql+stmt\n",
    "            condition=(step['c1_r1'],step['c1_r2'],step['c1_r3'],step['c1_r4'],\n",
    "                         step['c2_r1'],step['c2_r2'],step['c2_r3'],step['c2_r4'],\n",
    "                         step['c3_r1'],step['c3_r2'],step['c3_r3'],step['c3_r4'],\n",
    "                         step['c4_r1'],step['c4_r2'],step['c4_r3'],step['c4_r4'])\n",
    "            cursor.execute(sql,condition)\n",
    "            result=cursor.fetchone()\n",
    "            print(result)\n",
    "    finally:\n",
    "        connection.close()\n",
    "            \n",
    "def insert_step_in_db(step,score,password):\n",
    "    import pymysql\n",
    "    connection=pymysql.connect(host=\"192.168.1.188\",user=\"yewenhe0904\",passwd=password,db='a2048')\n",
    "    try:\n",
    "        with connection.cursor() as cursor:\n",
    "            sql='''INSERT INTO testing_v2\n",
    "            VALUES (%s,%s,%s,%s,%s,%s,%s,%s,%s,%s,%s,%s,%s,%s,%s,%s,%s,%s,%s) '''\n",
    "            condition=(step['c1_r1'],step['c1_r2'],step['c1_r3'],step['c1_r4'],\n",
    "                         step['c2_r1'],step['c2_r2'],step['c2_r3'],step['c2_r4'],\n",
    "                         step['c3_r1'],step['c3_r2'],step['c3_r3'],step['c3_r4'],\n",
    "                         step['c4_r1'],step['c4_r2'],step['c4_r3'],step['c4_r4'],\n",
    "                       step['move'],1,score)\n",
    "            print(sql)\n",
    "            print(condition)\n",
    "            cursor.execute(sql,condition)\n",
    "        connection.commit()\n",
    "    finally:\n",
    "        connection.close()\n",
    "\n",
    "# def update_step_in_db(step,score):\n",
    "#     pass"
   ]
  },
  {
   "cell_type": "code",
   "execution_count": 324,
   "metadata": {
    "collapsed": false
   },
   "outputs": [
    {
     "name": "stdout",
     "output_type": "stream",
     "text": [
      "INSERT INTO testing_v2\n",
      "            VALUES (%s,%s,%s,%s,%s,%s,%s,%s,%s,%s,%s,%s,%s,%s,%s,%s,%s,%s,%s) \n",
      "(0, 2, 4, 8, 0, 8, 64, 4, 2, 16, 0, 0, 0, 0, 0, 0, 'down', 1, 32)\n"
     ]
    }
   ],
   "source": [
    "password='k2cxtrb64vi'\n",
    "insert_step_in_db(step_detail,32,password)"
   ]
  },
  {
   "cell_type": "code",
   "execution_count": 327,
   "metadata": {
    "collapsed": false
   },
   "outputs": [
    {
     "name": "stdout",
     "output_type": "stream",
     "text": [
      "(0,)\n"
     ]
    }
   ],
   "source": [
    "password='k2cxtrb64vi'\n",
    "find_step_in_db(step_detail,password)"
   ]
  },
  {
   "cell_type": "code",
   "execution_count": 294,
   "metadata": {
    "collapsed": false
   },
   "outputs": [
    {
     "name": "stdout",
     "output_type": "stream",
     "text": [
      " c1_r1=%s AND c1_r2=%s AND c1_r3=%s AND c1_r4=%s AND c2_r1=%s AND c2_r2=%s AND c2_r3=%s AND c2_r4=%s AND c3_r1=%s AND c3_r2=%s AND c3_r3=%s AND c3_r4=%s AND c4_r1=%s AND c4_r2=%s AND c4_r3=%s AND c4_r4=%s AND 1=1\n"
     ]
    }
   ],
   "source": [
    "stmt=''\n",
    "for col in range(1,5):\n",
    "        for row in range(1,5):\n",
    "            key=\"c%d_r%d\" %(col,row)\n",
    "            p=(\" %s=%%s AND\" % key)\n",
    "            stmt+=p\n",
    "stmt+=' 1=1'\n",
    "print(stmt)\n"
   ]
  },
  {
   "cell_type": "code",
   "execution_count": 284,
   "metadata": {
    "collapsed": false
   },
   "outputs": [
    {
     "name": "stdout",
     "output_type": "stream",
     "text": [
      "{'c1_r1': 0, 'c1_r2': 2, 'c1_r3': 4, 'c1_r4': 8, 'c2_r1': 2, 'c2_r2': 8, 'c2_r3': 64, 'c2_r4': 4, 'c3_r1': 2, 'c3_r2': 16, 'c3_r3': 32, 'c3_r4': 16, 'c4_r1': 0, 'c4_r2': 4, 'c4_r3': 8, 'c4_r4': 2, 'move': 'right'}\r"
     ]
    },
    {
     "ename": "WebDriverException",
     "evalue": "Message: Tried to run command without establishing a connection\n",
     "output_type": "error",
     "traceback": [
      "\u001b[0;31m---------------------------------------------------------------------------\u001b[0m",
      "\u001b[0;31mWebDriverException\u001b[0m                        Traceback (most recent call last)",
      "\u001b[0;32m<ipython-input-284-6507ec9afcd4>\u001b[0m in \u001b[0;36m<module>\u001b[0;34m()\u001b[0m\n\u001b[1;32m     14\u001b[0m         \u001b[0mstep_detail\u001b[0m\u001b[0;34m=\u001b[0m\u001b[0mcurrent_status\u001b[0m\u001b[0;34m(\u001b[0m\u001b[0mdriver\u001b[0m\u001b[0;34m)\u001b[0m\u001b[0;34m\u001b[0m\u001b[0m\n\u001b[1;32m     15\u001b[0m         \u001b[0mstep_detail\u001b[0m\u001b[0;34m[\u001b[0m\u001b[0;34m\"move\"\u001b[0m\u001b[0;34m]\u001b[0m\u001b[0;34m=\u001b[0m\u001b[0mkey\u001b[0m\u001b[0;34m\u001b[0m\u001b[0m\n\u001b[0;32m---> 16\u001b[0;31m         \u001b[0melem\u001b[0m\u001b[0;34m.\u001b[0m\u001b[0msend_keys\u001b[0m\u001b[0;34m(\u001b[0m\u001b[0mkeymap\u001b[0m\u001b[0;34m[\u001b[0m\u001b[0mkey\u001b[0m\u001b[0;34m]\u001b[0m\u001b[0;34m)\u001b[0m\u001b[0;34m\u001b[0m\u001b[0m\n\u001b[0m\u001b[1;32m     17\u001b[0m         \u001b[0msubmit_step\u001b[0m\u001b[0;34m(\u001b[0m\u001b[0mstep_detail\u001b[0m\u001b[0;34m,\u001b[0m\u001b[0mrecord\u001b[0m\u001b[0;34m)\u001b[0m\u001b[0;34m\u001b[0m\u001b[0m\n\u001b[1;32m     18\u001b[0m     \u001b[0mgame_retry\u001b[0m\u001b[0;34m(\u001b[0m\u001b[0mdriver\u001b[0m\u001b[0;34m)\u001b[0m\u001b[0;34m\u001b[0m\u001b[0m\n",
      "\u001b[0;32m/home/yewenhe0904/anaconda3/lib/python3.6/site-packages/selenium/webdriver/remote/webelement.py\u001b[0m in \u001b[0;36msend_keys\u001b[0;34m(self, *value)\u001b[0m\n\u001b[1;32m    347\u001b[0m         self._execute(Command.SEND_KEYS_TO_ELEMENT,\n\u001b[1;32m    348\u001b[0m                       {'text': \"\".join(keys_to_typing(value)),\n\u001b[0;32m--> 349\u001b[0;31m                        'value': keys_to_typing(value)})\n\u001b[0m\u001b[1;32m    350\u001b[0m \u001b[0;34m\u001b[0m\u001b[0m\n\u001b[1;32m    351\u001b[0m     \u001b[0;31m# RenderedWebElement Items\u001b[0m\u001b[0;34m\u001b[0m\u001b[0;34m\u001b[0m\u001b[0m\n",
      "\u001b[0;32m/home/yewenhe0904/anaconda3/lib/python3.6/site-packages/selenium/webdriver/remote/webelement.py\u001b[0m in \u001b[0;36m_execute\u001b[0;34m(self, command, params)\u001b[0m\n\u001b[1;32m    491\u001b[0m             \u001b[0mparams\u001b[0m \u001b[0;34m=\u001b[0m \u001b[0;34m{\u001b[0m\u001b[0;34m}\u001b[0m\u001b[0;34m\u001b[0m\u001b[0m\n\u001b[1;32m    492\u001b[0m         \u001b[0mparams\u001b[0m\u001b[0;34m[\u001b[0m\u001b[0;34m'id'\u001b[0m\u001b[0;34m]\u001b[0m \u001b[0;34m=\u001b[0m \u001b[0mself\u001b[0m\u001b[0;34m.\u001b[0m\u001b[0m_id\u001b[0m\u001b[0;34m\u001b[0m\u001b[0m\n\u001b[0;32m--> 493\u001b[0;31m         \u001b[0;32mreturn\u001b[0m \u001b[0mself\u001b[0m\u001b[0;34m.\u001b[0m\u001b[0m_parent\u001b[0m\u001b[0;34m.\u001b[0m\u001b[0mexecute\u001b[0m\u001b[0;34m(\u001b[0m\u001b[0mcommand\u001b[0m\u001b[0;34m,\u001b[0m \u001b[0mparams\u001b[0m\u001b[0;34m)\u001b[0m\u001b[0;34m\u001b[0m\u001b[0m\n\u001b[0m\u001b[1;32m    494\u001b[0m \u001b[0;34m\u001b[0m\u001b[0m\n\u001b[1;32m    495\u001b[0m     \u001b[0;32mdef\u001b[0m \u001b[0mfind_element\u001b[0m\u001b[0;34m(\u001b[0m\u001b[0mself\u001b[0m\u001b[0;34m,\u001b[0m \u001b[0mby\u001b[0m\u001b[0;34m=\u001b[0m\u001b[0mBy\u001b[0m\u001b[0;34m.\u001b[0m\u001b[0mID\u001b[0m\u001b[0;34m,\u001b[0m \u001b[0mvalue\u001b[0m\u001b[0;34m=\u001b[0m\u001b[0;32mNone\u001b[0m\u001b[0;34m)\u001b[0m\u001b[0;34m:\u001b[0m\u001b[0;34m\u001b[0m\u001b[0m\n",
      "\u001b[0;32m/home/yewenhe0904/anaconda3/lib/python3.6/site-packages/selenium/webdriver/remote/webdriver.py\u001b[0m in \u001b[0;36mexecute\u001b[0;34m(self, driver_command, params)\u001b[0m\n\u001b[1;32m    254\u001b[0m         \u001b[0mresponse\u001b[0m \u001b[0;34m=\u001b[0m \u001b[0mself\u001b[0m\u001b[0;34m.\u001b[0m\u001b[0mcommand_executor\u001b[0m\u001b[0;34m.\u001b[0m\u001b[0mexecute\u001b[0m\u001b[0;34m(\u001b[0m\u001b[0mdriver_command\u001b[0m\u001b[0;34m,\u001b[0m \u001b[0mparams\u001b[0m\u001b[0;34m)\u001b[0m\u001b[0;34m\u001b[0m\u001b[0m\n\u001b[1;32m    255\u001b[0m         \u001b[0;32mif\u001b[0m \u001b[0mresponse\u001b[0m\u001b[0;34m:\u001b[0m\u001b[0;34m\u001b[0m\u001b[0m\n\u001b[0;32m--> 256\u001b[0;31m             \u001b[0mself\u001b[0m\u001b[0;34m.\u001b[0m\u001b[0merror_handler\u001b[0m\u001b[0;34m.\u001b[0m\u001b[0mcheck_response\u001b[0m\u001b[0;34m(\u001b[0m\u001b[0mresponse\u001b[0m\u001b[0;34m)\u001b[0m\u001b[0;34m\u001b[0m\u001b[0m\n\u001b[0m\u001b[1;32m    257\u001b[0m             response['value'] = self._unwrap_value(\n\u001b[1;32m    258\u001b[0m                 response.get('value', None))\n",
      "\u001b[0;32m/home/yewenhe0904/anaconda3/lib/python3.6/site-packages/selenium/webdriver/remote/errorhandler.py\u001b[0m in \u001b[0;36mcheck_response\u001b[0;34m(self, response)\u001b[0m\n\u001b[1;32m    192\u001b[0m         \u001b[0;32melif\u001b[0m \u001b[0mexception_class\u001b[0m \u001b[0;34m==\u001b[0m \u001b[0mUnexpectedAlertPresentException\u001b[0m \u001b[0;32mand\u001b[0m \u001b[0;34m'alert'\u001b[0m \u001b[0;32min\u001b[0m \u001b[0mvalue\u001b[0m\u001b[0;34m:\u001b[0m\u001b[0;34m\u001b[0m\u001b[0m\n\u001b[1;32m    193\u001b[0m             \u001b[0;32mraise\u001b[0m \u001b[0mexception_class\u001b[0m\u001b[0;34m(\u001b[0m\u001b[0mmessage\u001b[0m\u001b[0;34m,\u001b[0m \u001b[0mscreen\u001b[0m\u001b[0;34m,\u001b[0m \u001b[0mstacktrace\u001b[0m\u001b[0;34m,\u001b[0m \u001b[0mvalue\u001b[0m\u001b[0;34m[\u001b[0m\u001b[0;34m'alert'\u001b[0m\u001b[0;34m]\u001b[0m\u001b[0;34m.\u001b[0m\u001b[0mget\u001b[0m\u001b[0;34m(\u001b[0m\u001b[0;34m'text'\u001b[0m\u001b[0;34m)\u001b[0m\u001b[0;34m)\u001b[0m\u001b[0;34m\u001b[0m\u001b[0m\n\u001b[0;32m--> 194\u001b[0;31m         \u001b[0;32mraise\u001b[0m \u001b[0mexception_class\u001b[0m\u001b[0;34m(\u001b[0m\u001b[0mmessage\u001b[0m\u001b[0;34m,\u001b[0m \u001b[0mscreen\u001b[0m\u001b[0;34m,\u001b[0m \u001b[0mstacktrace\u001b[0m\u001b[0;34m)\u001b[0m\u001b[0;34m\u001b[0m\u001b[0m\n\u001b[0m\u001b[1;32m    195\u001b[0m \u001b[0;34m\u001b[0m\u001b[0m\n\u001b[1;32m    196\u001b[0m     \u001b[0;32mdef\u001b[0m \u001b[0m_value_or_default\u001b[0m\u001b[0;34m(\u001b[0m\u001b[0mself\u001b[0m\u001b[0;34m,\u001b[0m \u001b[0mobj\u001b[0m\u001b[0;34m,\u001b[0m \u001b[0mkey\u001b[0m\u001b[0;34m,\u001b[0m \u001b[0mdefault\u001b[0m\u001b[0;34m)\u001b[0m\u001b[0;34m:\u001b[0m\u001b[0;34m\u001b[0m\u001b[0m\n",
      "\u001b[0;31mWebDriverException\u001b[0m: Message: Tried to run command without establishing a connection\n"
     ]
    }
   ],
   "source": [
    "keymap={'up':Keys.ARROW_UP,\n",
    "        'down':Keys.ARROW_DOWN,\n",
    "        'left':Keys.ARROW_LEFT,\n",
    "        'right':Keys.ARROW_RIGHT}\n",
    "driver = webdriver.Firefox()\n",
    "driver.get(\"https://wayneyeye.github.io/2048/\")\n",
    "elem = driver.find_element_by_class_name('game-container')\n",
    "retry=1\n",
    "\n",
    "for i in range(retry):\n",
    "    record=[]\n",
    "    while game_over(driver):\n",
    "        key=next_move('up',0)\n",
    "        step_detail=current_status(driver)\n",
    "        step_detail[\"move\"]=key\n",
    "        elem.send_keys(keymap[key])\n",
    "        submit_step(step_detail,record)\n",
    "    game_retry(driver)\n",
    "driver.close()"
   ]
  },
  {
   "cell_type": "code",
   "execution_count": null,
   "metadata": {
    "collapsed": true
   },
   "outputs": [],
   "source": []
  },
  {
   "cell_type": "code",
   "execution_count": null,
   "metadata": {
    "collapsed": true
   },
   "outputs": [],
   "source": []
  },
  {
   "cell_type": "code",
   "execution_count": null,
   "metadata": {
    "collapsed": true
   },
   "outputs": [],
   "source": []
  },
  {
   "cell_type": "code",
   "execution_count": null,
   "metadata": {
    "collapsed": true
   },
   "outputs": [],
   "source": []
  },
  {
   "cell_type": "code",
   "execution_count": null,
   "metadata": {
    "collapsed": true
   },
   "outputs": [],
   "source": []
  },
  {
   "cell_type": "code",
   "execution_count": null,
   "metadata": {
    "collapsed": true
   },
   "outputs": [],
   "source": []
  },
  {
   "cell_type": "code",
   "execution_count": null,
   "metadata": {
    "collapsed": true
   },
   "outputs": [],
   "source": []
  },
  {
   "cell_type": "code",
   "execution_count": null,
   "metadata": {
    "collapsed": true
   },
   "outputs": [],
   "source": []
  },
  {
   "cell_type": "code",
   "execution_count": null,
   "metadata": {
    "collapsed": true
   },
   "outputs": [],
   "source": []
  },
  {
   "cell_type": "code",
   "execution_count": null,
   "metadata": {
    "collapsed": true
   },
   "outputs": [],
   "source": []
  },
  {
   "cell_type": "code",
   "execution_count": null,
   "metadata": {
    "collapsed": true
   },
   "outputs": [],
   "source": []
  },
  {
   "cell_type": "code",
   "execution_count": null,
   "metadata": {
    "collapsed": true
   },
   "outputs": [],
   "source": []
  },
  {
   "cell_type": "code",
   "execution_count": null,
   "metadata": {
    "collapsed": true
   },
   "outputs": [],
   "source": []
  },
  {
   "cell_type": "code",
   "execution_count": null,
   "metadata": {
    "collapsed": true
   },
   "outputs": [],
   "source": []
  },
  {
   "cell_type": "code",
   "execution_count": null,
   "metadata": {
    "collapsed": true
   },
   "outputs": [],
   "source": []
  },
  {
   "cell_type": "code",
   "execution_count": null,
   "metadata": {
    "collapsed": true
   },
   "outputs": [],
   "source": []
  },
  {
   "cell_type": "code",
   "execution_count": null,
   "metadata": {
    "collapsed": true
   },
   "outputs": [],
   "source": []
  },
  {
   "cell_type": "code",
   "execution_count": null,
   "metadata": {
    "collapsed": true
   },
   "outputs": [],
   "source": []
  },
  {
   "cell_type": "code",
   "execution_count": null,
   "metadata": {
    "collapsed": true
   },
   "outputs": [],
   "source": []
  },
  {
   "cell_type": "code",
   "execution_count": null,
   "metadata": {
    "collapsed": true
   },
   "outputs": [],
   "source": []
  }
 ],
 "metadata": {
  "kernelspec": {
   "display_name": "Python 3",
   "language": "python",
   "name": "python3"
  },
  "language_info": {
   "codemirror_mode": {
    "name": "ipython",
    "version": 3
   },
   "file_extension": ".py",
   "mimetype": "text/x-python",
   "name": "python",
   "nbconvert_exporter": "python",
   "pygments_lexer": "ipython3",
   "version": "3.6.0"
  }
 },
 "nbformat": 4,
 "nbformat_minor": 2
}
